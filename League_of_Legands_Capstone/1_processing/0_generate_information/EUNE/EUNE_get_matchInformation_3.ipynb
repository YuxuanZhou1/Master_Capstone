{
 "cells": [
  {
   "cell_type": "code",
   "execution_count": 1,
   "id": "vital-wrestling",
   "metadata": {},
   "outputs": [],
   "source": [
    "from riotwatcher import LolWatcher, ApiError\n",
    "import pandas as pd\n",
    "import csv"
   ]
  },
  {
   "cell_type": "code",
   "execution_count": 2,
   "id": "ethical-detroit",
   "metadata": {},
   "outputs": [
    {
     "name": "stderr",
     "output_type": "stream",
     "text": [
      "property 'default_match_v5' has been deprecated and can be removed\n"
     ]
    }
   ],
   "source": [
    "# global variables\n",
    "api_key = \"RGAPI-c349fbc0-07e9-4536-9a68-2b87c73fcd44\"\n",
    "watcher = LolWatcher(api_key, default_match_v5=True)\n",
    "my_region = 'EUN1'"
   ]
  },
  {
   "cell_type": "code",
   "execution_count": 3,
   "id": "psychological-ordinance",
   "metadata": {},
   "outputs": [],
   "source": [
    "# get player name from csv\n",
    "data = pd.read_csv (\"EUNE_matches.csv\")\n",
    "my_matches = data['id'].tolist()"
   ]
  },
  {
   "cell_type": "code",
   "execution_count": 4,
   "id": "sitting-hardwood",
   "metadata": {},
   "outputs": [
    {
     "data": {
      "text/plain": [
       "(759, 31)"
      ]
     },
     "execution_count": 4,
     "metadata": {},
     "output_type": "execute_result"
    }
   ],
   "source": [
    "participants = []\n",
    "# fetch last match detail\n",
    "for i in my_matches[2264:3023]:\n",
    "    match_detail = watcher.match.by_id(region='EUROPE', match_id = i)\n",
    "    participants_row = {}\n",
    "    # generate match information\n",
    "    participants_row['gameId'] = match_detail['info']['gameId']\n",
    "    participants_row['gameDuration'] = match_detail['info']['gameDuration']\n",
    "    participants_row['gameVersion'] = match_detail['info']['gameVersion']\n",
    "    participants_row['platformId'] = match_detail['info']['platformId']\n",
    "    participants_row['season'] = match_detail['info']['mapId']\n",
    "    # essential resources information\n",
    "    if match_detail['info']['teams'][0]['win'] == True:\n",
    "        participants_row['winner'] = 1\n",
    "    else:\n",
    "        participants_row['winner'] = 2\n",
    "\n",
    "    # the first baron\n",
    "    if match_detail['info']['teams'][0]['objectives']['baron']['first'] == True:\n",
    "        participants_row['1st_baron'] = 1\n",
    "    elif match_detail['info']['teams'][1]['objectives']['baron']['first'] == True:\n",
    "        participants_row['1st_baron'] = 2\n",
    "    else:\n",
    "        participants_row['1st_baron'] = 0\n",
    "\n",
    "    # the first dragon    \n",
    "    if match_detail['info']['teams'][0]['objectives']['dragon']['first'] == True:\n",
    "        participants_row['1st_dragon'] = 1\n",
    "    elif match_detail['info']['teams'][1]['objectives']['dragon']['first'] == True:\n",
    "        participants_row['1st_dragon'] = 2\n",
    "    else:\n",
    "        participants_row['1st_dragon'] = 0\n",
    "\n",
    "    # the first inhibitor\n",
    "    if match_detail['info']['teams'][0]['objectives']['inhibitor']['first'] == True:\n",
    "        participants_row['1st_inhibitor'] = 1\n",
    "    elif match_detail['info']['teams'][1]['objectives']['inhibitor']['first'] == True:\n",
    "        participants_row['1st_inhibitor'] = 2\n",
    "    else:\n",
    "        participants_row['1st_inhibitor'] = 0\n",
    "\n",
    "    # the first riftHerald \n",
    "    if match_detail['info']['teams'][0]['objectives']['riftHerald']['first'] == True:\n",
    "        participants_row['1st_riftHerald'] = 1\n",
    "    elif match_detail['info']['teams'][1]['objectives']['riftHerald']['first'] == True:\n",
    "        participants_row['1st_riftHerald'] = 2\n",
    "    else:\n",
    "        participants_row['1st_riftHerald'] = 0\n",
    "\n",
    "    # the first tower   \n",
    "    if match_detail['info']['teams'][0]['objectives']['tower']['first'] == True:\n",
    "        participants_row['1st_tower'] = 1\n",
    "    elif match_detail['info']['teams'][1]['objectives']['tower']['first'] == True:\n",
    "        participants_row['1st_tower'] = 2\n",
    "    else:\n",
    "        participants_row['1st_tower'] = 0\n",
    "\n",
    "    # Team 1 information\n",
    "    participants_row['t1_baron_kills'] = match_detail['info']['teams'][0]['objectives']['baron']['kills'] \n",
    "    participants_row['t1_champ_kills'] = match_detail['info']['teams'][0]['objectives']['champion']['kills'] \n",
    "    participants_row['t1_dragon_kills'] = match_detail['info']['teams'][0]['objectives']['dragon']['kills'] \n",
    "    participants_row['t1_inhibitor_kills'] = match_detail['info']['teams'][0]['objectives']['inhibitor']['kills']\n",
    "    participants_row['t1_riftHerald_kills'] = match_detail['info']['teams'][0]['objectives']['riftHerald']['kills'] \n",
    "    participants_row['t1_tower_kills'] = match_detail['info']['teams'][0]['objectives']['tower']['kills'] \n",
    "    \n",
    "    participants_row['t1_team_assists'] = match_detail['info']['participants'][0]['assists'] + match_detail['info']['participants'][1]['assists'] + match_detail['info']['participants'][2]['assists'] + match_detail['info']['participants'][3]['assists'] + match_detail['info']['participants'][4]['assists']\n",
    "    participants_row['t1_team_gold_earn'] = match_detail['info']['participants'][0]['goldEarned'] + match_detail['info']['participants'][1]['goldEarned'] + match_detail['info']['participants'][2]['goldEarned'] + match_detail['info']['participants'][3]['goldEarned'] + match_detail['info']['participants'][4]['goldEarned']\n",
    "    participants_row['t1_team_gold_spen'] = match_detail['info']['participants'][0]['goldSpent'] + match_detail['info']['participants'][1]['goldSpent'] + match_detail['info']['participants'][2]['goldSpent'] + match_detail['info']['participants'][3]['goldSpent'] + match_detail['info']['participants'][4]['goldSpent']\n",
    "    \n",
    "    if match_detail['info']['teams'][1]['objectives']['champion']['kills'] != 0:\n",
    "        participants_row['t1_team_kda'] = (participants_row['t1_champ_kills'] + participants_row['t1_team_assists']) / match_detail['info']['teams'][1]['objectives']['champion']['kills']\n",
    "    else:\n",
    "        participants_row['t1_team_kda'] = participants_row['t1_champ_kills'] + participants_row['t1_team_assists']        \n",
    "\n",
    "\n",
    "    # Team 2 information\n",
    "    participants_row['t2_baron_kills'] = match_detail['info']['teams'][1]['objectives']['baron']['kills'] \n",
    "    participants_row['t2_champ_kills'] = match_detail['info']['teams'][1]['objectives']['champion']['kills'] \n",
    "    participants_row['t2_dragon_kills'] = match_detail['info']['teams'][1]['objectives']['dragon']['kills'] \n",
    "    participants_row['t2_inhibitor_kills'] = match_detail['info']['teams'][1]['objectives']['inhibitor']['kills']\n",
    "    participants_row['t2_riftHerald_kills'] = match_detail['info']['teams'][1]['objectives']['riftHerald']['kills'] \n",
    "    participants_row['t2_tower_kills'] = match_detail['info']['teams'][1]['objectives']['tower']['kills']\n",
    "\n",
    "    participants_row['t2_team_assists'] = match_detail['info']['participants'][5]['assists'] + match_detail['info']['participants'][6]['assists'] + match_detail['info']['participants'][7]['assists'] + match_detail['info']['participants'][8]['assists'] + match_detail['info']['participants'][9]['assists']\n",
    "    participants_row['t2_team_gold_earn'] = match_detail['info']['participants'][5]['goldEarned'] + match_detail['info']['participants'][6]['goldEarned'] + match_detail['info']['participants'][7]['goldEarned'] + match_detail['info']['participants'][8]['goldEarned'] + match_detail['info']['participants'][9]['goldEarned']\n",
    "    participants_row['t2_team_gold_spen'] = match_detail['info']['participants'][5]['goldSpent'] + match_detail['info']['participants'][6]['goldSpent'] + match_detail['info']['participants'][7]['goldSpent'] + match_detail['info']['participants'][8]['goldSpent'] + match_detail['info']['participants'][9]['goldSpent']\n",
    "\n",
    "    if match_detail['info']['teams'][0]['objectives']['champion']['kills'] != 0:\n",
    "        participants_row['t2_team_kda'] = (participants_row['t2_champ_kills'] + participants_row['t2_team_assists']) / match_detail['info']['teams'][0]['objectives']['champion']['kills']\n",
    "    else:\n",
    "        participants_row['t2_team_kda'] = participants_row['t2_champ_kills'] + participants_row['t2_team_assists'] \n",
    "\n",
    "    participants.append(participants_row)\n",
    "df = pd.DataFrame(participants)\n",
    "df.shape"
   ]
  },
  {
   "cell_type": "code",
   "execution_count": 5,
   "id": "pacific-enhancement",
   "metadata": {},
   "outputs": [],
   "source": [
    "df.to_csv('EUNE_match_information_3.csv')"
   ]
  }
 ],
 "metadata": {
  "interpreter": {
   "hash": "31f2aee4e71d21fbe5cf8b01ff0e069b9275f58929596ceb00d14d90e3e16cd6"
  },
  "kernelspec": {
   "display_name": "Python 3.8.9 64-bit",
   "name": "python3"
  },
  "language_info": {
   "codemirror_mode": {
    "name": "ipython",
    "version": 3
   },
   "file_extension": ".py",
   "mimetype": "text/x-python",
   "name": "python",
   "nbconvert_exporter": "python",
   "pygments_lexer": "ipython3",
   "version": "3.8.9"
  }
 },
 "nbformat": 4,
 "nbformat_minor": 5
}
