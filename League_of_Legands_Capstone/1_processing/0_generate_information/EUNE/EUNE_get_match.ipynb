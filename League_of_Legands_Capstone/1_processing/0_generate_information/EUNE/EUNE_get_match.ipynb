{
 "cells": [
  {
   "cell_type": "code",
   "execution_count": 10,
   "id": "prime-aircraft",
   "metadata": {},
   "outputs": [],
   "source": [
    "from riotwatcher import LolWatcher, ApiError\n",
    "import pandas as pd\n",
    "import csv\n",
    "import random\n",
    "import time"
   ]
  },
  {
   "cell_type": "code",
   "execution_count": 11,
   "id": "respected-loading",
   "metadata": {},
   "outputs": [
    {
     "name": "stderr",
     "output_type": "stream",
     "text": [
      "property 'default_match_v5' has been deprecated and can be removed\n"
     ]
    }
   ],
   "source": [
    "# global variables\n",
    "api_key = \"RGAPI-0059ebe4-def2-43bb-a666-34eb1f2ec69f\"\n",
    "watcher = LolWatcher(api_key, default_match_v5=True)\n",
    "my_region = 'EUN1'"
   ]
  },
  {
   "cell_type": "code",
   "execution_count": 12,
   "id": "brief-adoption",
   "metadata": {},
   "outputs": [],
   "source": [
    "# get player name from csv\n",
    "data= pd.read_csv (\"EUNE_using.csv\")\n",
    "new_list = data['username'].tolist()"
   ]
  },
  {
   "cell_type": "code",
   "execution_count": 13,
   "id": "earned-projector",
   "metadata": {},
   "outputs": [],
   "source": [
    "# get user's puuid based on their player name\n",
    "puuid_list = []\n",
    "count_time = 0\n",
    "\n",
    "# only get 50 record just for test\n",
    "# need to write a timer for future \n",
    "for i in range(0,len(new_list)):   \n",
    "    if count_time > 200:\n",
    "        time.sleep(60)\n",
    "        count_time = 0\n",
    "    else:\n",
    "        try:\n",
    "            info = watcher.summoner.by_name(my_region, new_list[i])\n",
    "            puuid_list.append(info['puuid'])\n",
    "        except Exception as e:\n",
    "            pass\n",
    "        continue\n",
    "\n",
    "    count_time += 1"
   ]
  },
  {
   "cell_type": "code",
   "execution_count": 14,
   "metadata": {},
   "outputs": [],
   "source": [
    "dic = {'puuid': puuid_list}\n",
    "df = pd.DataFrame(dic)\n",
    "df.to_csv(\"puuid_EUNE.csv\")"
   ]
  },
  {
   "cell_type": "code",
   "execution_count": 15,
   "id": "hispanic-inside",
   "metadata": {},
   "outputs": [],
   "source": [
    "my_matches = []\n",
    "\n",
    "# get match information\n",
    "for i in puuid_list:\n",
    "    my_matches.append(watcher.match.matchlist_by_puuid(region='EUROPE', puuid=i, type=\"ranked\", count=2))\n"
   ]
  },
  {
   "cell_type": "code",
   "execution_count": 16,
   "metadata": {},
   "outputs": [],
   "source": [
    "# remove duplicate matchId\n",
    "new_matches = []\n",
    "\n",
    "for i in range(0, len(my_matches)):\n",
    "    for p in my_matches[i]:\n",
    "        if p not in new_matches:\n",
    "            new_matches.append(p)"
   ]
  },
  {
   "cell_type": "code",
   "execution_count": 18,
   "id": "approved-baking",
   "metadata": {},
   "outputs": [],
   "source": [
    "# export matchID_list\n",
    "dic = {'id': new_matches}\n",
    "df = pd.DataFrame(dic)\n",
    "df.to_csv('EUNE_matches.csv')"
   ]
  }
 ],
 "metadata": {
  "interpreter": {
   "hash": "31f2aee4e71d21fbe5cf8b01ff0e069b9275f58929596ceb00d14d90e3e16cd6"
  },
  "kernelspec": {
   "display_name": "Python 3.8.9 64-bit",
   "name": "python3"
  },
  "language_info": {
   "codemirror_mode": {
    "name": "ipython",
    "version": 3
   },
   "file_extension": ".py",
   "mimetype": "text/x-python",
   "name": "python",
   "nbconvert_exporter": "python",
   "pygments_lexer": "ipython3",
   "version": "3.8.9"
  }
 },
 "nbformat": 4,
 "nbformat_minor": 5
}
