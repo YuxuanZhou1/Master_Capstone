{
 "cells": [
  {
   "cell_type": "code",
   "execution_count": 10,
   "id": "vital-wrestling",
   "metadata": {},
   "outputs": [],
   "source": [
    "from riotwatcher import LolWatcher, ApiError\n",
    "import pandas as pd\n",
    "import csv\n",
    "import playerinformation"
   ]
  },
  {
   "cell_type": "code",
   "execution_count": 11,
   "id": "ethical-detroit",
   "metadata": {},
   "outputs": [
    {
     "name": "stderr",
     "output_type": "stream",
     "text": [
      "property 'default_match_v5' has been deprecated and can be removed\n"
     ]
    }
   ],
   "source": [
    "# global variables\n",
    "api_key = \"RGAPI-c349fbc0-07e9-4536-9a68-2b87c73fcd44\"\n",
    "watcher = LolWatcher(api_key, default_match_v5=True)\n",
    "my_region = 'na1'"
   ]
  },
  {
   "cell_type": "code",
   "execution_count": 12,
   "id": "psychological-ordinance",
   "metadata": {},
   "outputs": [],
   "source": [
    "# get player name from csv\n",
    "data = pd.read_csv (\"NA_matches.csv\")\n",
    "my_matches = data['id'].tolist()"
   ]
  },
  {
   "cell_type": "code",
   "execution_count": 13,
   "id": "402c4f5e",
   "metadata": {},
   "outputs": [
    {
     "data": {
      "text/plain": [
       "3164"
      ]
     },
     "execution_count": 13,
     "metadata": {},
     "output_type": "execute_result"
    }
   ],
   "source": [
    "playerinformation.get_information(my_matches, watcher, 1583, 2373, \"NA_match_information_2.csv\")"
   ]
  }
 ],
 "metadata": {
  "interpreter": {
   "hash": "31f2aee4e71d21fbe5cf8b01ff0e069b9275f58929596ceb00d14d90e3e16cd6"
  },
  "kernelspec": {
   "display_name": "Python 3.8.9 64-bit",
   "name": "python3"
  },
  "language_info": {
   "codemirror_mode": {
    "name": "ipython",
    "version": 3
   },
   "file_extension": ".py",
   "mimetype": "text/x-python",
   "name": "python",
   "nbconvert_exporter": "python",
   "pygments_lexer": "ipython3",
   "version": "3.8.9"
  }
 },
 "nbformat": 4,
 "nbformat_minor": 5
}
