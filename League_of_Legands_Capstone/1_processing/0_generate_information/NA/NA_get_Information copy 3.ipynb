{
 "cells": [
  {
   "cell_type": "code",
   "execution_count": 1,
   "id": "vital-wrestling",
   "metadata": {},
   "outputs": [],
   "source": [
    "from riotwatcher import LolWatcher, ApiError\n",
    "import pandas as pd\n",
    "import csv\n",
    "import playerinformation"
   ]
  },
  {
   "cell_type": "code",
   "execution_count": 2,
   "id": "ethical-detroit",
   "metadata": {},
   "outputs": [
    {
     "name": "stderr",
     "output_type": "stream",
     "text": [
      "property 'default_match_v5' has been deprecated and can be removed\n"
     ]
    }
   ],
   "source": [
    "# global variables\n",
    "api_key = \"RGAPI-17c4ca97-7447-4e9e-adeb-d69a5ed3a50a\"\n",
    "watcher = LolWatcher(api_key, default_match_v5=True)\n",
    "my_region = 'na1'"
   ]
  },
  {
   "cell_type": "code",
   "execution_count": 3,
   "id": "psychological-ordinance",
   "metadata": {},
   "outputs": [],
   "source": [
    "# get player name from csv\n",
    "data = pd.read_csv (\"NA_matches.csv\")\n",
    "my_matches = data['id'].tolist()"
   ]
  },
  {
   "cell_type": "code",
   "execution_count": 4,
   "id": "402c4f5e",
   "metadata": {},
   "outputs": [
    {
     "data": {
      "text/plain": [
       "3164"
      ]
     },
     "execution_count": 4,
     "metadata": {},
     "output_type": "execute_result"
    }
   ],
   "source": [
    "playerinformation.get_information(my_matches, watcher, 2744, 3164, \"NA_match_information_3.csv\")"
   ]
  }
 ],
 "metadata": {
  "interpreter": {
   "hash": "31f2aee4e71d21fbe5cf8b01ff0e069b9275f58929596ceb00d14d90e3e16cd6"
  },
  "kernelspec": {
   "display_name": "Python 3.8.9 64-bit",
   "name": "python3"
  },
  "language_info": {
   "codemirror_mode": {
    "name": "ipython",
    "version": 3
   },
   "file_extension": ".py",
   "mimetype": "text/x-python",
   "name": "python",
   "nbconvert_exporter": "python",
   "pygments_lexer": "ipython3",
   "version": "3.8.9"
  }
 },
 "nbformat": 4,
 "nbformat_minor": 5
}
