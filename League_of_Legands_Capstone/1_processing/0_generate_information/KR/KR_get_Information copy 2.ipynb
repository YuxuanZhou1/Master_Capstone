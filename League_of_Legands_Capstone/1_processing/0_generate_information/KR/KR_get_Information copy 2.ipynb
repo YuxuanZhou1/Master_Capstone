{
 "cells": [
  {
   "cell_type": "code",
   "execution_count": 1,
   "id": "vital-wrestling",
   "metadata": {},
   "outputs": [],
   "source": [
    "from riotwatcher import LolWatcher, ApiError\n",
    "import pandas as pd\n",
    "import csv\n",
    "import playerinformation"
   ]
  },
  {
   "cell_type": "code",
   "execution_count": 2,
   "id": "ethical-detroit",
   "metadata": {},
   "outputs": [
    {
     "name": "stderr",
     "output_type": "stream",
     "text": [
      "property 'default_match_v5' has been deprecated and can be removed\n"
     ]
    }
   ],
   "source": [
    "# global variables\n",
    "api_key = \"RGAPI-f4a27739-e017-428b-ac7c-d70f248e251f\"\n",
    "watcher = LolWatcher(api_key, default_match_v5=True)\n",
    "my_region = 'KR'"
   ]
  },
  {
   "cell_type": "code",
   "execution_count": 3,
   "id": "psychological-ordinance",
   "metadata": {},
   "outputs": [],
   "source": [
    "# get player name from csv\n",
    "data = pd.read_csv (\"KR_matches_2.csv\")\n",
    "my_matches = data['id'].tolist()"
   ]
  },
  {
   "cell_type": "code",
   "execution_count": 4,
   "id": "402c4f5e",
   "metadata": {},
   "outputs": [
    {
     "data": {
      "text/plain": [
       "1491"
      ]
     },
     "execution_count": 4,
     "metadata": {},
     "output_type": "execute_result"
    }
   ],
   "source": [
    "playerinformation.get_information(my_matches, watcher, 0, 1491, \"KR_match_information_2.csv\")"
   ]
  }
 ],
 "metadata": {
  "interpreter": {
   "hash": "31f2aee4e71d21fbe5cf8b01ff0e069b9275f58929596ceb00d14d90e3e16cd6"
  },
  "kernelspec": {
   "display_name": "Python 3.8.9 64-bit",
   "name": "python3"
  },
  "language_info": {
   "codemirror_mode": {
    "name": "ipython",
    "version": 3
   },
   "file_extension": ".py",
   "mimetype": "text/x-python",
   "name": "python",
   "nbconvert_exporter": "python",
   "pygments_lexer": "ipython3",
   "version": "3.8.9"
  }
 },
 "nbformat": 4,
 "nbformat_minor": 5
}
