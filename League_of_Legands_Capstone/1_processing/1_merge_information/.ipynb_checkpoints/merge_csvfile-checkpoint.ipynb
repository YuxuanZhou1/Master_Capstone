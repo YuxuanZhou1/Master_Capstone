{
 "cells": [
  {
   "cell_type": "code",
   "execution_count": 22,
   "id": "553025a0",
   "metadata": {},
   "outputs": [],
   "source": [
    "import pandas as pd\n",
    "import os"
   ]
  },
  {
   "cell_type": "code",
   "execution_count": 23,
   "id": "89371e07",
   "metadata": {},
   "outputs": [],
   "source": [
    "df = pd.read_csv(\"EUW_match_information.csv\")"
   ]
  },
  {
   "cell_type": "code",
   "execution_count": 24,
   "id": "2fa6869d",
   "metadata": {},
   "outputs": [],
   "source": [
    "df.to_csv(\"Match_Information.csv\", index = False)"
   ]
  },
  {
   "cell_type": "code",
   "execution_count": 25,
   "id": "f1ca0841",
   "metadata": {},
   "outputs": [],
   "source": [
    "lis = os.listdir()"
   ]
  },
  {
   "cell_type": "code",
   "execution_count": 31,
   "id": "f6693787",
   "metadata": {},
   "outputs": [
    {
     "data": {
      "text/plain": [
       "['EUW_match_information.csv',\n",
       " 'NA_match_information_2.csv',\n",
       " 'NA_match_information_1.csv',\n",
       " '.DS_Store',\n",
       " 'KR_match_information.csv',\n",
       " 'EUW_match_information_1.csv',\n",
       " 'EUNE_match_information.csv',\n",
       " 'EUW_match_information_2.csv',\n",
       " 'EUW_match_information_3.csv',\n",
       " 'KR_match_information_4.csv',\n",
       " 'KR_match_information_1.csv',\n",
       " 'KR_match_information_2.csv',\n",
       " 'KR_match_information_3.csv']"
      ]
     },
     "execution_count": 31,
     "metadata": {},
     "output_type": "execute_result"
    }
   ],
   "source": [
    "lis[0:13]"
   ]
  },
  {
   "cell_type": "code",
   "execution_count": 37,
   "id": "b406d660",
   "metadata": {},
   "outputs": [
    {
     "data": {
      "text/plain": [
       "'csv'"
      ]
     },
     "execution_count": 37,
     "metadata": {},
     "output_type": "execute_result"
    }
   ],
   "source": []
  },
  {
   "cell_type": "code",
   "execution_count": 27,
   "id": "f4edf468",
   "metadata": {},
   "outputs": [],
   "source": [
    "for i in range(1,13):\n",
    "    if lis[1][-3:] == \"csv\":\n",
    "        df = pd.read_csv(lis[i])\n",
    "        df.to_csv(\"Match_Information.csv\", index = False, header = False, mode = 'a+')"
   ]
  },
  {
   "cell_type": "code",
   "execution_count": 28,
   "id": "95b3d2f3",
   "metadata": {},
   "outputs": [
    {
     "data": {
      "text/plain": [
       "19851"
      ]
     },
     "execution_count": 28,
     "metadata": {},
     "output_type": "execute_result"
    }
   ],
   "source": [
    "new = pd.read_csv('Match_Information.csv')\n",
    "len(new)"
   ]
  },
  {
   "cell_type": "code",
   "execution_count": null,
   "id": "7205e9e9",
   "metadata": {},
   "outputs": [],
   "source": []
  }
 ],
 "metadata": {
  "kernelspec": {
   "display_name": "Python 3",
   "language": "python",
   "name": "python3"
  },
  "language_info": {
   "codemirror_mode": {
    "name": "ipython",
    "version": 3
   },
   "file_extension": ".py",
   "mimetype": "text/x-python",
   "name": "python",
   "nbconvert_exporter": "python",
   "pygments_lexer": "ipython3",
   "version": "3.8.8"
  }
 },
 "nbformat": 4,
 "nbformat_minor": 5
}
