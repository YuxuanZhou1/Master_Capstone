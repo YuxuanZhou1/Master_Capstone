{
 "cells": [
  {
   "cell_type": "code",
   "execution_count": 4,
   "id": "e50ac7ca",
   "metadata": {},
   "outputs": [],
   "source": [
    "import pandas as pd\n",
    "import os"
   ]
  },
  {
   "cell_type": "code",
   "execution_count": 5,
   "id": "ad1bca07",
   "metadata": {},
   "outputs": [],
   "source": [
    "df = pd.read_csv(\"EUW_match_information.csv\")"
   ]
  },
  {
   "cell_type": "code",
   "execution_count": 6,
   "id": "ddeb956c",
   "metadata": {},
   "outputs": [],
   "source": [
    "df.to_csv(\"Match_Information.csv\", index = False)"
   ]
  },
  {
   "cell_type": "code",
   "execution_count": 7,
   "id": "2751aabc",
   "metadata": {},
   "outputs": [],
   "source": [
    "lis = os.listdir()"
   ]
  },
  {
   "cell_type": "code",
   "execution_count": 8,
   "id": "21f0dc4f",
   "metadata": {},
   "outputs": [
    {
     "data": {
      "text/plain": [
       "22"
      ]
     },
     "execution_count": 8,
     "metadata": {},
     "output_type": "execute_result"
    }
   ],
   "source": [
    "len(lis)"
   ]
  },
  {
   "cell_type": "code",
   "execution_count": 9,
   "id": "f0991de6",
   "metadata": {},
   "outputs": [
    {
     "data": {
      "text/plain": [
       "['EUW_match_information.csv',\n",
       " 'NA_match_information_3.csv',\n",
       " 'NA_match_information_2.csv',\n",
       " 'NA_match_information_1.csv',\n",
       " 'EUNE_match_information_1.csv',\n",
       " '.DS_Store',\n",
       " 'EUNE_match_information_2.csv',\n",
       " 'KR_match_information.csv',\n",
       " 'EUNE_match_information_3.csv',\n",
       " 'NA_match_information.csv',\n",
       " 'EUW_match_information_1.csv',\n",
       " 'EUNE_match_information.csv',\n",
       " 'EUW_match_information_2.csv',\n",
       " 'EUW_match_information_3.csv',\n",
       " 'KR_match_information_4.csv',\n",
       " 'KR_match_information_1.csv',\n",
       " 'KR_match_information_2.csv',\n",
       " 'KR_match_information_3.csv',\n",
       " '.ipynb_checkpoints']"
      ]
     },
     "execution_count": 9,
     "metadata": {},
     "output_type": "execute_result"
    }
   ],
   "source": [
    "lis[0:19]"
   ]
  },
  {
   "cell_type": "code",
   "execution_count": 10,
   "id": "270cfd94",
   "metadata": {},
   "outputs": [],
   "source": [
    "for i in range(1,19):\n",
    "    if lis[i][-3:] == \"csv\":\n",
    "        df = pd.read_csv(lis[i])\n",
    "        df.to_csv(\"Match_Information.csv\", index = False, header = False, mode = 'a+')"
   ]
  },
  {
   "cell_type": "code",
   "execution_count": 11,
   "id": "ae8100a6",
   "metadata": {},
   "outputs": [
    {
     "data": {
      "text/plain": [
       "20817"
      ]
     },
     "execution_count": 11,
     "metadata": {},
     "output_type": "execute_result"
    }
   ],
   "source": [
    "new = pd.read_csv('Match_Information.csv')\n",
    "len(new)"
   ]
  }
 ],
 "metadata": {
  "kernelspec": {
   "display_name": "Python 3",
   "language": "python",
   "name": "python3"
  },
  "language_info": {
   "codemirror_mode": {
    "name": "ipython",
    "version": 3
   },
   "file_extension": ".py",
   "mimetype": "text/x-python",
   "name": "python",
   "nbconvert_exporter": "python",
   "pygments_lexer": "ipython3",
   "version": "3.8.8"
  }
 },
 "nbformat": 4,
 "nbformat_minor": 5
}
