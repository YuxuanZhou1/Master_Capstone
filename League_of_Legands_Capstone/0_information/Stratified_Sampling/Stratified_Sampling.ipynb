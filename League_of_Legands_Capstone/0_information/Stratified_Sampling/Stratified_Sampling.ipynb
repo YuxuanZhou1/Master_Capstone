{
 "cells": [
  {
   "cell_type": "code",
   "execution_count": 5,
   "id": "b2949343",
   "metadata": {},
   "outputs": [],
   "source": [
    "import pandas as pd\n",
    "import numpy as np\n",
    "from sklearn.model_selection import train_test_split\n",
    "import matplotlib as plt\n",
    "import matplotlib.pyplot as plt\n",
    "from matplotlib.pyplot import figure"
   ]
  },
  {
   "cell_type": "code",
   "execution_count": 6,
   "id": "a6d51cd7",
   "metadata": {},
   "outputs": [
    {
     "data": {
      "text/html": [
       "<div>\n",
       "<style scoped>\n",
       "    .dataframe tbody tr th:only-of-type {\n",
       "        vertical-align: middle;\n",
       "    }\n",
       "\n",
       "    .dataframe tbody tr th {\n",
       "        vertical-align: top;\n",
       "    }\n",
       "\n",
       "    .dataframe thead th {\n",
       "        text-align: right;\n",
       "    }\n",
       "</style>\n",
       "<table border=\"1\" class=\"dataframe\">\n",
       "  <thead>\n",
       "    <tr style=\"text-align: right;\">\n",
       "      <th></th>\n",
       "      <th>userID</th>\n",
       "      <th>username</th>\n",
       "      <th>ranking</th>\n",
       "    </tr>\n",
       "  </thead>\n",
       "  <tbody>\n",
       "    <tr>\n",
       "      <th>0</th>\n",
       "      <td>6</td>\n",
       "      <td>Oakbewwy</td>\n",
       "      <td>Challenger</td>\n",
       "    </tr>\n",
       "    <tr>\n",
       "      <th>1</th>\n",
       "      <td>7</td>\n",
       "      <td>Johnsun123</td>\n",
       "      <td>Challenger</td>\n",
       "    </tr>\n",
       "    <tr>\n",
       "      <th>2</th>\n",
       "      <td>8</td>\n",
       "      <td>Yunbee7</td>\n",
       "      <td>Challenger</td>\n",
       "    </tr>\n",
       "    <tr>\n",
       "      <th>3</th>\n",
       "      <td>9</td>\n",
       "      <td>Sheiden2</td>\n",
       "      <td>Challenger</td>\n",
       "    </tr>\n",
       "    <tr>\n",
       "      <th>4</th>\n",
       "      <td>10</td>\n",
       "      <td>Qitong</td>\n",
       "      <td>Challenger</td>\n",
       "    </tr>\n",
       "  </tbody>\n",
       "</table>\n",
       "</div>"
      ],
      "text/plain": [
       "   userID    username     ranking\n",
       "0       6    Oakbewwy  Challenger\n",
       "1       7  Johnsun123  Challenger\n",
       "2       8     Yunbee7  Challenger\n",
       "3       9    Sheiden2  Challenger\n",
       "4      10      Qitong  Challenger"
      ]
     },
     "execution_count": 6,
     "metadata": {},
     "output_type": "execute_result"
    }
   ],
   "source": [
    "# importing the dataset\n",
    "df = pd.read_csv(\"ranking information -- NA.csv\")\n",
    "# looking at the dataset\n",
    "df.head()"
   ]
  },
  {
   "cell_type": "code",
   "execution_count": 7,
   "id": "2e7ec8a7",
   "metadata": {},
   "outputs": [
    {
     "data": {
      "text/html": [
       "<div>\n",
       "<style scoped>\n",
       "    .dataframe tbody tr th:only-of-type {\n",
       "        vertical-align: middle;\n",
       "    }\n",
       "\n",
       "    .dataframe tbody tr th {\n",
       "        vertical-align: top;\n",
       "    }\n",
       "\n",
       "    .dataframe thead th {\n",
       "        text-align: right;\n",
       "    }\n",
       "</style>\n",
       "<table border=\"1\" class=\"dataframe\">\n",
       "  <thead>\n",
       "    <tr style=\"text-align: right;\">\n",
       "      <th></th>\n",
       "      <th>userID</th>\n",
       "      <th>username</th>\n",
       "      <th>ranking</th>\n",
       "    </tr>\n",
       "  </thead>\n",
       "  <tbody>\n",
       "    <tr>\n",
       "      <th>0</th>\n",
       "      <td>6</td>\n",
       "      <td>Kingen</td>\n",
       "      <td>Challenger</td>\n",
       "    </tr>\n",
       "    <tr>\n",
       "      <th>1</th>\n",
       "      <td>7</td>\n",
       "      <td>GGGori</td>\n",
       "      <td>Challenger</td>\n",
       "    </tr>\n",
       "    <tr>\n",
       "      <th>2</th>\n",
       "      <td>8</td>\n",
       "      <td>KT PerfecT</td>\n",
       "      <td>Challenger</td>\n",
       "    </tr>\n",
       "    <tr>\n",
       "      <th>3</th>\n",
       "      <td>9</td>\n",
       "      <td>디알엑스 태윤</td>\n",
       "      <td>Challenger</td>\n",
       "    </tr>\n",
       "    <tr>\n",
       "      <th>4</th>\n",
       "      <td>10</td>\n",
       "      <td>KT Way</td>\n",
       "      <td>Challenger</td>\n",
       "    </tr>\n",
       "  </tbody>\n",
       "</table>\n",
       "</div>"
      ],
      "text/plain": [
       "   userID    username     ranking\n",
       "0       6      Kingen  Challenger\n",
       "1       7      GGGori  Challenger\n",
       "2       8  KT PerfecT  Challenger\n",
       "3       9     디알엑스 태윤  Challenger\n",
       "4      10      KT Way  Challenger"
      ]
     },
     "execution_count": 7,
     "metadata": {},
     "output_type": "execute_result"
    }
   ],
   "source": [
    "# importing the dataset\n",
    "dk = pd.read_csv(\"ranking information -- KR.csv\")\n",
    "# looking at the dataset\n",
    "dk.head()"
   ]
  },
  {
   "cell_type": "code",
   "execution_count": 8,
   "id": "759009de",
   "metadata": {},
   "outputs": [
    {
     "data": {
      "text/html": [
       "<div>\n",
       "<style scoped>\n",
       "    .dataframe tbody tr th:only-of-type {\n",
       "        vertical-align: middle;\n",
       "    }\n",
       "\n",
       "    .dataframe tbody tr th {\n",
       "        vertical-align: top;\n",
       "    }\n",
       "\n",
       "    .dataframe thead th {\n",
       "        text-align: right;\n",
       "    }\n",
       "</style>\n",
       "<table border=\"1\" class=\"dataframe\">\n",
       "  <thead>\n",
       "    <tr style=\"text-align: right;\">\n",
       "      <th></th>\n",
       "      <th>userID</th>\n",
       "      <th>username</th>\n",
       "      <th>ranking</th>\n",
       "    </tr>\n",
       "  </thead>\n",
       "  <tbody>\n",
       "    <tr>\n",
       "      <th>0</th>\n",
       "      <td>6</td>\n",
       "      <td>dntmdgkrhtlvdjdy</td>\n",
       "      <td>Challenger</td>\n",
       "    </tr>\n",
       "    <tr>\n",
       "      <th>1</th>\n",
       "      <td>7</td>\n",
       "      <td>Lathyrus</td>\n",
       "      <td>Challenger</td>\n",
       "    </tr>\n",
       "    <tr>\n",
       "      <th>2</th>\n",
       "      <td>8</td>\n",
       "      <td>AHäHäCiK</td>\n",
       "      <td>Challenger</td>\n",
       "    </tr>\n",
       "    <tr>\n",
       "      <th>3</th>\n",
       "      <td>9</td>\n",
       "      <td>TheRoyalKanin</td>\n",
       "      <td>Challenger</td>\n",
       "    </tr>\n",
       "    <tr>\n",
       "      <th>4</th>\n",
       "      <td>10</td>\n",
       "      <td>Pride0</td>\n",
       "      <td>Challenger</td>\n",
       "    </tr>\n",
       "  </tbody>\n",
       "</table>\n",
       "</div>"
      ],
      "text/plain": [
       "   userID          username     ranking\n",
       "0       6  dntmdgkrhtlvdjdy  Challenger\n",
       "1       7          Lathyrus  Challenger\n",
       "2       8          AHäHäCiK  Challenger\n",
       "3       9     TheRoyalKanin  Challenger\n",
       "4      10            Pride0  Challenger"
      ]
     },
     "execution_count": 8,
     "metadata": {},
     "output_type": "execute_result"
    }
   ],
   "source": [
    "# importing the dataset\n",
    "dw = pd.read_csv(\"ranking information -- EUW.csv\")\n",
    "# looking at the dataset\n",
    "dw.head()"
   ]
  },
  {
   "cell_type": "code",
   "execution_count": 9,
   "id": "af78c8b1",
   "metadata": {},
   "outputs": [
    {
     "data": {
      "text/html": [
       "<div>\n",
       "<style scoped>\n",
       "    .dataframe tbody tr th:only-of-type {\n",
       "        vertical-align: middle;\n",
       "    }\n",
       "\n",
       "    .dataframe tbody tr th {\n",
       "        vertical-align: top;\n",
       "    }\n",
       "\n",
       "    .dataframe thead th {\n",
       "        text-align: right;\n",
       "    }\n",
       "</style>\n",
       "<table border=\"1\" class=\"dataframe\">\n",
       "  <thead>\n",
       "    <tr style=\"text-align: right;\">\n",
       "      <th></th>\n",
       "      <th>userID</th>\n",
       "      <th>username</th>\n",
       "      <th>ranking</th>\n",
       "    </tr>\n",
       "  </thead>\n",
       "  <tbody>\n",
       "    <tr>\n",
       "      <th>0</th>\n",
       "      <td>6</td>\n",
       "      <td>tall and hot</td>\n",
       "      <td>Challenger</td>\n",
       "    </tr>\n",
       "    <tr>\n",
       "      <th>1</th>\n",
       "      <td>7</td>\n",
       "      <td>Jesus Wafflecat</td>\n",
       "      <td>Challenger</td>\n",
       "    </tr>\n",
       "    <tr>\n",
       "      <th>2</th>\n",
       "      <td>8</td>\n",
       "      <td>Yefot</td>\n",
       "      <td>Challenger</td>\n",
       "    </tr>\n",
       "    <tr>\n",
       "      <th>3</th>\n",
       "      <td>9</td>\n",
       "      <td>I am Sobek</td>\n",
       "      <td>Challenger</td>\n",
       "    </tr>\n",
       "    <tr>\n",
       "      <th>4</th>\n",
       "      <td>10</td>\n",
       "      <td>Max420360</td>\n",
       "      <td>Challenger</td>\n",
       "    </tr>\n",
       "  </tbody>\n",
       "</table>\n",
       "</div>"
      ],
      "text/plain": [
       "   userID         username     ranking\n",
       "0       6     tall and hot  Challenger\n",
       "1       7  Jesus Wafflecat  Challenger\n",
       "2       8            Yefot  Challenger\n",
       "3       9       I am Sobek  Challenger\n",
       "4      10        Max420360  Challenger"
      ]
     },
     "execution_count": 9,
     "metadata": {},
     "output_type": "execute_result"
    }
   ],
   "source": [
    "# importing the dataset\n",
    "de = pd.read_csv(\"ranking information -- EUNE.csv\")\n",
    "# looking at the dataset\n",
    "de.head()"
   ]
  },
  {
   "cell_type": "code",
   "execution_count": 10,
   "id": "e0f6c05e",
   "metadata": {},
   "outputs": [
    {
     "data": {
      "text/plain": [
       "Silver         25200\n",
       "Gold           18700\n",
       "Bronze         12900\n",
       "Platinum        7400\n",
       "Master          3360\n",
       "Diamond         1140\n",
       "Grandmaster      700\n",
       "Iron             300\n",
       "Challenger       295\n",
       "Name: ranking, dtype: int64"
      ]
     },
     "execution_count": 10,
     "metadata": {},
     "output_type": "execute_result"
    }
   ],
   "source": [
    "Diamond = [\"Diamond 1\", \"Diamond 2\", \"Diamond 3\", \"Diamond 4\"]\n",
    "Platinum = [\"Platinum 1\",  \"Platinum 2\" , \"Platinum 3\", \"Platinum 4\" ]\n",
    "Gold = [\"Gold 1\",  \"Gold 2\" , \"Gold 3\", \"Gold 4\" ]\n",
    "Silver = [\"Silver 1\",  \"Silver 2\" , \"Silver 3\", \"Silver 4\" ]\n",
    "Bronze = [\"Bronze 1\",  \"Bronze 2\" , \"Bronze 3\", \"Bronze 4\" ]\n",
    "Iron = [\"Iron 1\",  \"Iron 2\" , \"Iron 3\", \"Iron 4\" ]\n",
    "\n",
    "newline = list()\n",
    "for i in df.ranking:\n",
    "    if i in Diamond:\n",
    "        newline.append(\"Diamond\")\n",
    "    elif i in Platinum:\n",
    "        newline.append(\"Platinum\")\n",
    "    elif i in Gold:\n",
    "        newline.append(\"Gold\") \n",
    "    elif i in Silver:\n",
    "        newline.append(\"Silver\") \n",
    "    elif i in Bronze:\n",
    "        newline.append(\"Bronze\") \n",
    "    elif i in Iron:\n",
    "        newline.append(\"Iron\") \n",
    "    else:\n",
    "        newline.append(i)\n",
    "\n",
    "df.ranking = newline\n",
    "df.ranking.value_counts()"
   ]
  },
  {
   "cell_type": "code",
   "execution_count": 11,
   "id": "178f290a",
   "metadata": {},
   "outputs": [
    {
     "data": {
      "text/plain": [
       "Silver         24400\n",
       "Gold           22800\n",
       "Bronze         11300\n",
       "Platinum        8700\n",
       "Master          4389\n",
       "Diamond         1111\n",
       "Iron             900\n",
       "Grandmaster      700\n",
       "Challenger       295\n",
       "Name: ranking, dtype: int64"
      ]
     },
     "execution_count": 11,
     "metadata": {},
     "output_type": "execute_result"
    }
   ],
   "source": [
    "newline = list()\n",
    "for i in dk.ranking:\n",
    "    if i in Diamond:\n",
    "        newline.append(\"Diamond\")\n",
    "    elif i in Platinum:\n",
    "        newline.append(\"Platinum\")\n",
    "    elif i in Gold:\n",
    "        newline.append(\"Gold\") \n",
    "    elif i in Silver:\n",
    "        newline.append(\"Silver\") \n",
    "    elif i in Bronze:\n",
    "        newline.append(\"Bronze\") \n",
    "    elif i in Iron:\n",
    "        newline.append(\"Iron\") \n",
    "    else:\n",
    "        newline.append(i)\n",
    "\n",
    "dk.ranking = newline\n",
    "dk.ranking.value_counts()"
   ]
  },
  {
   "cell_type": "code",
   "execution_count": 12,
   "id": "def7bd29",
   "metadata": {},
   "outputs": [
    {
     "data": {
      "text/plain": [
       "Silver         25200\n",
       "Gold           17700\n",
       "Bronze         13000\n",
       "Platinum        7400\n",
       "Master          4099\n",
       "Diamond         1000\n",
       "Grandmaster      701\n",
       "Iron             700\n",
       "Challenger       295\n",
       "Name: ranking, dtype: int64"
      ]
     },
     "execution_count": 12,
     "metadata": {},
     "output_type": "execute_result"
    }
   ],
   "source": [
    "newline = list()\n",
    "for i in dw.ranking:\n",
    "    if i in Diamond:\n",
    "        newline.append(\"Diamond\")\n",
    "    elif i in Platinum:\n",
    "        newline.append(\"Platinum\")\n",
    "    elif i in Gold:\n",
    "        newline.append(\"Gold\") \n",
    "    elif i in Silver:\n",
    "        newline.append(\"Silver\") \n",
    "    elif i in Bronze:\n",
    "        newline.append(\"Bronze\") \n",
    "    elif i in Iron:\n",
    "        newline.append(\"Iron\") \n",
    "    else:\n",
    "        newline.append(i)\n",
    "\n",
    "dw.ranking = newline\n",
    "dw.ranking.value_counts()"
   ]
  },
  {
   "cell_type": "code",
   "execution_count": 13,
   "id": "3af59e44",
   "metadata": {},
   "outputs": [
    {
     "data": {
      "text/plain": [
       "Silver         22700\n",
       "Gold           18000\n",
       "Bronze         12500\n",
       "Platinum        7800\n",
       "Master          2598\n",
       "Diamond         1701\n",
       "Iron            1200\n",
       "Grandmaster      501\n",
       "Challenger       195\n",
       "Name: ranking, dtype: int64"
      ]
     },
     "execution_count": 13,
     "metadata": {},
     "output_type": "execute_result"
    }
   ],
   "source": [
    "newline = list()\n",
    "for i in de.ranking:\n",
    "    if i in Diamond:\n",
    "        newline.append(\"Diamond\")\n",
    "    elif i in Platinum:\n",
    "        newline.append(\"Platinum\")\n",
    "    elif i in Gold:\n",
    "        newline.append(\"Gold\") \n",
    "    elif i in Silver:\n",
    "        newline.append(\"Silver\") \n",
    "    elif i in Bronze:\n",
    "        newline.append(\"Bronze\") \n",
    "    elif i in Iron:\n",
    "        newline.append(\"Iron\") \n",
    "    else:\n",
    "        newline.append(i)\n",
    "\n",
    "de.ranking = newline\n",
    "de.ranking.value_counts()"
   ]
  },
  {
   "cell_type": "code",
   "execution_count": 14,
   "id": "d6070d5b",
   "metadata": {},
   "outputs": [],
   "source": [
    "# NA\n",
    "train_set, test_set = train_test_split(df, test_size=0.023, random_state=4)\n",
    "# KR\n",
    "train_set_k, test_set_k = train_test_split(dk, test_size=0.051, random_state=4)\n",
    "# EW\n",
    "train_set_w, test_set_w = train_test_split(dw, test_size=0.045, random_state=4)\n",
    "# EN\n",
    "train_set_e, test_set_e = train_test_split(de, test_size=0.023, random_state=4)"
   ]
  },
  {
   "cell_type": "markdown",
   "id": "c0d68909",
   "metadata": {},
   "source": [
    "Get 10560 players from NA server, and prepare for future use"
   ]
  },
  {
   "cell_type": "code",
   "execution_count": 15,
   "id": "11e32c50",
   "metadata": {},
   "outputs": [
    {
     "data": {
      "text/plain": [
       "Iron             7\n",
       "Bronze         311\n",
       "Silver         570\n",
       "Gold           420\n",
       "Platinum       179\n",
       "Diamond         26\n",
       "Master          75\n",
       "Grandmaster     17\n",
       "Challenger       5\n",
       "Name: ranking, dtype: int64"
      ]
     },
     "execution_count": 15,
     "metadata": {},
     "output_type": "execute_result"
    }
   ],
   "source": [
    "bins_list = [\"Iron\", \"Bronze\", \"Silver\", \"Gold\", \"Platinum\", \"Diamond\", \"Master\", \"Grandmaster\", \"Challenger\"]\n",
    "a = test_set.ranking.value_counts()[bins_list]\n",
    "a"
   ]
  },
  {
   "cell_type": "code",
   "execution_count": 16,
   "id": "5ee76f4d",
   "metadata": {},
   "outputs": [
    {
     "data": {
      "text/plain": [
       "<AxesSubplot:>"
      ]
     },
     "execution_count": 16,
     "metadata": {},
     "output_type": "execute_result"
    },
    {
     "data": {
      "image/png": "[encoded data removed]",
      "text/plain": [
       "<Figure size 800x800 with 1 Axes>"
      ]
     },
     "metadata": {
      "needs_background": "light"
     },
     "output_type": "display_data"
    }
   ],
   "source": [
    "figure(figsize=(10, 10), dpi=80)\n",
    "a.plot()"
   ]
  },
  {
   "cell_type": "code",
   "execution_count": 17,
   "id": "08cc93cf",
   "metadata": {},
   "outputs": [],
   "source": [
    "# write test set into new csv file for PUUID\n",
    "test_set.to_csv(\"NA_using.csv\")"
   ]
  },
  {
   "cell_type": "code",
   "execution_count": 18,
   "id": "cc7e98cc",
   "metadata": {},
   "outputs": [],
   "source": [
    "# write test set into new csv file for PUUID\n",
    "test_set_k.to_csv(\"KR_using.csv\")"
   ]
  },
  {
   "cell_type": "code",
   "execution_count": 19,
   "id": "8ab14ba1",
   "metadata": {},
   "outputs": [],
   "source": [
    "# write test set into new csv file for PUUID\n",
    "test_set_w.to_csv(\"EUW_using.csv\")"
   ]
  },
  {
   "cell_type": "code",
   "execution_count": 20,
   "id": "49eb22f9",
   "metadata": {},
   "outputs": [],
   "source": [
    "# write test set into new csv file for PUUID\n",
    "test_set_e.to_csv(\"EUNE_using.csv\")"
   ]
  }
 ],
 "metadata": {
  "interpreter": {
   "hash": "40d3a090f54c6569ab1632332b64b2c03c39dcf918b08424e98f38b5ae0af88f"
  },
  "kernelspec": {
   "display_name": "Python 3.8.8 64-bit ('base': conda)",
   "name": "python3"
  },
  "language_info": {
   "codemirror_mode": {
    "name": "ipython",
    "version": 3
   },
   "file_extension": ".py",
   "mimetype": "text/x-python",
   "name": "python",
   "nbconvert_exporter": "python",
   "pygments_lexer": "ipython3",
   "version": "3.8.8"
  }
 },
 "nbformat": 4,
 "nbformat_minor": 5
}
