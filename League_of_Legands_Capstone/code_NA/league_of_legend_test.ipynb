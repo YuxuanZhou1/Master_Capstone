{
 "cells": [
  {
   "cell_type": "code",
   "execution_count": 1,
   "id": "emotional-update",
   "metadata": {},
   "outputs": [],
   "source": [
    "from riotwatcher import LolWatcher, ApiError\n",
    "import pandas as pd"
   ]
  },
  {
   "cell_type": "code",
   "execution_count": 4,
   "id": "following-payment",
   "metadata": {},
   "outputs": [],
   "source": [
    "# global variables\n",
    "api_key = \"RGAPI-5cdff2cc-cd78-4c4f-b912-e09f3da3e291\"\n",
    "watcher = LolWatcher(api_key, default_match_v5=True)\n",
    "my_region = 'na1'"
   ]
  },
  {
   "cell_type": "code",
   "execution_count": 5,
   "id": "prerequisite-installation",
   "metadata": {},
   "outputs": [
    {
     "name": "stdout",
     "output_type": "stream",
     "text": [
      "{'id': 'xy8ujq2I-_XqUgkvprdShbI1dLFSB3E2YcE9c0VAwY8uvlE', 'accountId': 'J36NZv7yGxvgroxY1jCEeHePAO51VBIQhd27PkmnPzzdCg', 'puuid': 'EH4oB4t-KQxArn34ZezTJ44n4og9OxRt8Fh3TeXSZwcHWiCXjt56ooM1bR8KvIWBMnQx0KOOA3FxLg', 'name': 'Doublelift', 'profileIconId': 4568, 'revisionDate': 1632975309000, 'summonerLevel': 269}\n"
     ]
    }
   ],
   "source": [
    "# check user's information/\"Doublelift\"\n",
    "info = watcher.summoner.by_name(my_region, 'Doublelift')\n",
    "print(info)"
   ]
  },
  {
   "cell_type": "code",
   "execution_count": 6,
   "id": "impossible-monroe",
   "metadata": {},
   "outputs": [
    {
     "name": "stdout",
     "output_type": "stream",
     "text": [
      "{'id': 'unBnhwFml5S-oxVZiLPuLWGr0OME8kpPAEa9x8serCNnWrg', 'accountId': 'ZDb5jxvoCQUFdAOTW1rmb-eR_YYAGYeAWNpzz7Swzt2vB9w', 'puuid': 'Tt_0fY7lezAGH1ZjLFVx0tMZE_OcpulofL1XDfoJ0nNslYkEq8l6zn799C7OUWKU-8756FBvvifJgQ', 'name': 'OS Knife', 'profileIconId': 4928, 'revisionDate': 1632526379000, 'summonerLevel': 220}\n"
     ]
    }
   ],
   "source": [
    "# check user's information/\"me\"\n",
    "info_m = watcher.summoner.by_name(my_region, 'OSKNIFE')\n",
    "print(info_m)"
   ]
  },
  {
   "cell_type": "code",
   "execution_count": 7,
   "id": "crazy-candle",
   "metadata": {},
   "outputs": [
    {
     "name": "stdout",
     "output_type": "stream",
     "text": [
      "[{'leagueId': '2bd81059-a0ce-33d4-9fb0-86977c851f64', 'queueType': 'RANKED_SOLO_5x5', 'tier': 'CHALLENGER', 'rank': 'I', 'summonerId': 'xy8ujq2I-_XqUgkvprdShbI1dLFSB3E2YcE9c0VAwY8uvlE', 'summonerName': 'Doublelift', 'leaguePoints': 952, 'wins': 313, 'losses': 274, 'veteran': False, 'inactive': False, 'freshBlood': False, 'hotStreak': False}]\n"
     ]
    }
   ],
   "source": [
    "# Access rank information/ \"Doublelift\"\n",
    "rank_stats = watcher.league.by_summoner(my_region, info['id'])\n",
    "print(rank_stats)"
   ]
  },
  {
   "cell_type": "code",
   "execution_count": 8,
   "id": "refined-outdoors",
   "metadata": {},
   "outputs": [
    {
     "name": "stdout",
     "output_type": "stream",
     "text": [
      "[{'leagueId': '36fbcf5f-6e99-48a3-a42f-209c0605e700', 'queueType': 'RANKED_SOLO_5x5', 'tier': 'GOLD', 'rank': 'I', 'summonerId': 'unBnhwFml5S-oxVZiLPuLWGr0OME8kpPAEa9x8serCNnWrg', 'summonerName': 'OS Knife', 'leaguePoints': 100, 'wins': 52, 'losses': 30, 'veteran': False, 'inactive': False, 'freshBlood': False, 'hotStreak': True, 'miniSeries': {'target': 3, 'wins': 1, 'losses': 0, 'progress': 'WNNNN'}}, {'leagueId': '6604d212-97a8-4a16-a5c5-3ec84f9992fd', 'queueType': 'RANKED_FLEX_SR', 'tier': 'GOLD', 'rank': 'IV', 'summonerId': 'unBnhwFml5S-oxVZiLPuLWGr0OME8kpPAEa9x8serCNnWrg', 'summonerName': 'OS Knife', 'leaguePoints': 1, 'wins': 15, 'losses': 4, 'veteran': False, 'inactive': False, 'freshBlood': False, 'hotStreak': True}]\n"
     ]
    }
   ],
   "source": [
    "# Access rank information/ \"me\"\n",
    "rank_stats = watcher.league.by_summoner(my_region, info_m['id'])\n",
    "print(rank_stats)"
   ]
  },
  {
   "cell_type": "code",
   "execution_count": 9,
   "id": "qualified-justice",
   "metadata": {},
   "outputs": [
    {
     "ename": "HTTPError",
     "evalue": "400 Client Error: Bad Request for url: https://na1.api.riotgames.com/lol/match/v5/matches/by-puuid/J36NZv7yGxvgroxY1jCEeHePAO51VBIQhd27PkmnPzzdCg/ids",
     "output_type": "error",
     "traceback": [
      "\u001b[1;31m---------------------------------------------------------------------------\u001b[0m",
      "\u001b[1;31mHTTPError\u001b[0m                                 Traceback (most recent call last)",
      "\u001b[1;32mc:\\users\\y2003\\appdata\\local\\programs\\python\\python39\\lib\\site-packages\\riotwatcher\\Handlers\\ThrowOnErrorHandler.py\u001b[0m in \u001b[0;36mafter_request\u001b[1;34m(self, region, endpoint_name, method_name, url, response)\u001b[0m\n\u001b[0;32m     17\u001b[0m         \u001b[1;32mtry\u001b[0m\u001b[1;33m:\u001b[0m\u001b[1;33m\u001b[0m\u001b[1;33m\u001b[0m\u001b[0m\n\u001b[1;32m---> 18\u001b[1;33m             \u001b[0mresponse\u001b[0m\u001b[1;33m.\u001b[0m\u001b[0mraise_for_status\u001b[0m\u001b[1;33m(\u001b[0m\u001b[1;33m)\u001b[0m\u001b[1;33m\u001b[0m\u001b[1;33m\u001b[0m\u001b[0m\n\u001b[0m\u001b[0;32m     19\u001b[0m         \u001b[1;32mexcept\u001b[0m \u001b[0mrequests\u001b[0m\u001b[1;33m.\u001b[0m\u001b[0mHTTPError\u001b[0m \u001b[1;32mas\u001b[0m \u001b[0merr\u001b[0m\u001b[1;33m:\u001b[0m\u001b[1;33m\u001b[0m\u001b[1;33m\u001b[0m\u001b[0m\n",
      "\u001b[1;32mc:\\users\\y2003\\appdata\\local\\programs\\python\\python39\\lib\\site-packages\\requests\\models.py\u001b[0m in \u001b[0;36mraise_for_status\u001b[1;34m(self)\u001b[0m\n\u001b[0;32m    942\u001b[0m         \u001b[1;32mif\u001b[0m \u001b[0mhttp_error_msg\u001b[0m\u001b[1;33m:\u001b[0m\u001b[1;33m\u001b[0m\u001b[1;33m\u001b[0m\u001b[0m\n\u001b[1;32m--> 943\u001b[1;33m             \u001b[1;32mraise\u001b[0m \u001b[0mHTTPError\u001b[0m\u001b[1;33m(\u001b[0m\u001b[0mhttp_error_msg\u001b[0m\u001b[1;33m,\u001b[0m \u001b[0mresponse\u001b[0m\u001b[1;33m=\u001b[0m\u001b[0mself\u001b[0m\u001b[1;33m)\u001b[0m\u001b[1;33m\u001b[0m\u001b[1;33m\u001b[0m\u001b[0m\n\u001b[0m\u001b[0;32m    944\u001b[0m \u001b[1;33m\u001b[0m\u001b[0m\n",
      "\u001b[1;31mHTTPError\u001b[0m: 400 Client Error: Bad Request for url: https://na1.api.riotgames.com/lol/match/v5/matches/by-puuid/J36NZv7yGxvgroxY1jCEeHePAO51VBIQhd27PkmnPzzdCg/ids",
      "\nDuring handling of the above exception, another exception occurred:\n",
      "\u001b[1;31mHTTPError\u001b[0m                                 Traceback (most recent call last)",
      "\u001b[1;32m<ipython-input-9-97261502f1da>\u001b[0m in \u001b[0;36m<module>\u001b[1;34m\u001b[0m\n\u001b[0;32m      1\u001b[0m \u001b[1;31m# Access Match Data\u001b[0m\u001b[1;33m\u001b[0m\u001b[1;33m\u001b[0m\u001b[1;33m\u001b[0m\u001b[0m\n\u001b[1;32m----> 2\u001b[1;33m \u001b[0mmy_matches\u001b[0m \u001b[1;33m=\u001b[0m \u001b[0mwatcher\u001b[0m\u001b[1;33m.\u001b[0m\u001b[0mmatch_v5\u001b[0m\u001b[1;33m.\u001b[0m\u001b[0mmatchlist_by_puuid\u001b[0m\u001b[1;33m(\u001b[0m\u001b[0mmy_region\u001b[0m\u001b[1;33m,\u001b[0m \u001b[0minfo\u001b[0m\u001b[1;33m[\u001b[0m\u001b[1;34m'accountId'\u001b[0m\u001b[1;33m]\u001b[0m\u001b[1;33m)\u001b[0m\u001b[1;33m\u001b[0m\u001b[1;33m\u001b[0m\u001b[0m\n\u001b[0m\u001b[0;32m      3\u001b[0m \u001b[1;33m\u001b[0m\u001b[0m\n\u001b[0;32m      4\u001b[0m \u001b[1;31m# fetch last match detail\u001b[0m\u001b[1;33m\u001b[0m\u001b[1;33m\u001b[0m\u001b[1;33m\u001b[0m\u001b[0m\n\u001b[0;32m      5\u001b[0m \u001b[0mlast_match\u001b[0m \u001b[1;33m=\u001b[0m \u001b[0mmy_matches\u001b[0m\u001b[1;33m[\u001b[0m\u001b[1;34m'matches'\u001b[0m\u001b[1;33m]\u001b[0m\u001b[1;33m[\u001b[0m\u001b[1;36m0\u001b[0m\u001b[1;33m]\u001b[0m\u001b[1;33m\u001b[0m\u001b[1;33m\u001b[0m\u001b[0m\n",
      "\u001b[1;32mc:\\users\\y2003\\appdata\\local\\programs\\python\\python39\\lib\\site-packages\\riotwatcher\\_apis\\league_of_legends\\MatchApiV5.py\u001b[0m in \u001b[0;36mmatchlist_by_puuid\u001b[1;34m(self, region, puuid, start, count, queue, type)\u001b[0m\n\u001b[0;32m     75\u001b[0m         \u001b[1;33m:\u001b[0m\u001b[0mreturns\u001b[0m\u001b[1;33m:\u001b[0m \u001b[0mMatchlistDto\u001b[0m\u001b[1;33m\u001b[0m\u001b[1;33m\u001b[0m\u001b[0m\n\u001b[0;32m     76\u001b[0m         \"\"\"\n\u001b[1;32m---> 77\u001b[1;33m         return self._request_endpoint(\n\u001b[0m\u001b[0;32m     78\u001b[0m             \u001b[0mself\u001b[0m\u001b[1;33m.\u001b[0m\u001b[0mmatchlist_by_puuid\u001b[0m\u001b[1;33m.\u001b[0m\u001b[0m__name__\u001b[0m\u001b[1;33m,\u001b[0m\u001b[1;33m\u001b[0m\u001b[1;33m\u001b[0m\u001b[0m\n\u001b[0;32m     79\u001b[0m             \u001b[0mregion\u001b[0m\u001b[1;33m,\u001b[0m\u001b[1;33m\u001b[0m\u001b[1;33m\u001b[0m\u001b[0m\n",
      "\u001b[1;32mc:\\users\\y2003\\appdata\\local\\programs\\python\\python39\\lib\\site-packages\\riotwatcher\\_apis\\NamedEndpoint.py\u001b[0m in \u001b[0;36m_request_endpoint\u001b[1;34m(self, method_name, region, endpoint, **kwargs)\u001b[0m\n\u001b[0;32m     33\u001b[0m         \"\"\"\n\u001b[0;32m     34\u001b[0m         \u001b[0murl\u001b[0m\u001b[1;33m,\u001b[0m \u001b[0mquery\u001b[0m \u001b[1;33m=\u001b[0m \u001b[0mendpoint\u001b[0m\u001b[1;33m(\u001b[0m\u001b[0mplatform\u001b[0m\u001b[1;33m=\u001b[0m\u001b[0mregion\u001b[0m\u001b[1;33m,\u001b[0m \u001b[1;33m**\u001b[0m\u001b[0mkwargs\u001b[0m\u001b[1;33m)\u001b[0m\u001b[1;33m\u001b[0m\u001b[1;33m\u001b[0m\u001b[0m\n\u001b[1;32m---> 35\u001b[1;33m         return self._base_api.raw_request(\n\u001b[0m\u001b[0;32m     36\u001b[0m             \u001b[0mself\u001b[0m\u001b[1;33m.\u001b[0m\u001b[0m_endpoint_name\u001b[0m\u001b[1;33m,\u001b[0m \u001b[0mmethod_name\u001b[0m\u001b[1;33m,\u001b[0m \u001b[0mregion\u001b[0m\u001b[1;33m,\u001b[0m \u001b[0murl\u001b[0m\u001b[1;33m,\u001b[0m \u001b[0mquery\u001b[0m\u001b[1;33m\u001b[0m\u001b[1;33m\u001b[0m\u001b[0m\n\u001b[0;32m     37\u001b[0m         )\n",
      "\u001b[1;32mc:\\users\\y2003\\appdata\\local\\programs\\python\\python39\\lib\\site-packages\\riotwatcher\\_apis\\BaseApi.py\u001b[0m in \u001b[0;36mraw_request\u001b[1;34m(self, endpoint_name, method_name, region, url, query_params)\u001b[0m\n\u001b[0;32m     48\u001b[0m         \u001b[1;32mif\u001b[0m \u001b[0mself\u001b[0m\u001b[1;33m.\u001b[0m\u001b[0m_request_handlers\u001b[0m \u001b[1;32mis\u001b[0m \u001b[1;32mnot\u001b[0m \u001b[1;32mNone\u001b[0m\u001b[1;33m:\u001b[0m\u001b[1;33m\u001b[0m\u001b[1;33m\u001b[0m\u001b[0m\n\u001b[0;32m     49\u001b[0m             \u001b[1;32mfor\u001b[0m \u001b[0mhandler\u001b[0m \u001b[1;32min\u001b[0m \u001b[0mself\u001b[0m\u001b[1;33m.\u001b[0m\u001b[0m_request_handlers\u001b[0m\u001b[1;33m[\u001b[0m\u001b[0mearly_ret_idx\u001b[0m\u001b[1;33m:\u001b[0m\u001b[1;32mNone\u001b[0m\u001b[1;33m:\u001b[0m\u001b[1;33m-\u001b[0m\u001b[1;36m1\u001b[0m\u001b[1;33m]\u001b[0m\u001b[1;33m:\u001b[0m\u001b[1;33m\u001b[0m\u001b[1;33m\u001b[0m\u001b[0m\n\u001b[1;32m---> 50\u001b[1;33m                 mod = handler.after_request(\n\u001b[0m\u001b[0;32m     51\u001b[0m                     \u001b[0mregion\u001b[0m\u001b[1;33m,\u001b[0m \u001b[0mendpoint_name\u001b[0m\u001b[1;33m,\u001b[0m \u001b[0mmethod_name\u001b[0m\u001b[1;33m,\u001b[0m \u001b[0murl\u001b[0m\u001b[1;33m,\u001b[0m \u001b[0mresponse\u001b[0m\u001b[1;33m\u001b[0m\u001b[1;33m\u001b[0m\u001b[0m\n\u001b[0;32m     52\u001b[0m                 )\n",
      "\u001b[1;32mc:\\users\\y2003\\appdata\\local\\programs\\python\\python39\\lib\\site-packages\\riotwatcher\\Handlers\\ThrowOnErrorHandler.py\u001b[0m in \u001b[0;36mafter_request\u001b[1;34m(self, region, endpoint_name, method_name, url, response)\u001b[0m\n\u001b[0;32m     18\u001b[0m             \u001b[0mresponse\u001b[0m\u001b[1;33m.\u001b[0m\u001b[0mraise_for_status\u001b[0m\u001b[1;33m(\u001b[0m\u001b[1;33m)\u001b[0m\u001b[1;33m\u001b[0m\u001b[1;33m\u001b[0m\u001b[0m\n\u001b[0;32m     19\u001b[0m         \u001b[1;32mexcept\u001b[0m \u001b[0mrequests\u001b[0m\u001b[1;33m.\u001b[0m\u001b[0mHTTPError\u001b[0m \u001b[1;32mas\u001b[0m \u001b[0merr\u001b[0m\u001b[1;33m:\u001b[0m\u001b[1;33m\u001b[0m\u001b[1;33m\u001b[0m\u001b[0m\n\u001b[1;32m---> 20\u001b[1;33m             \u001b[1;32mraise\u001b[0m \u001b[0mApiError\u001b[0m\u001b[1;33m(\u001b[0m\u001b[1;33m*\u001b[0m\u001b[0merr\u001b[0m\u001b[1;33m.\u001b[0m\u001b[0margs\u001b[0m\u001b[1;33m,\u001b[0m \u001b[0mrequest\u001b[0m\u001b[1;33m=\u001b[0m\u001b[0merr\u001b[0m\u001b[1;33m.\u001b[0m\u001b[0mrequest\u001b[0m\u001b[1;33m,\u001b[0m \u001b[0mresponse\u001b[0m\u001b[1;33m=\u001b[0m\u001b[0merr\u001b[0m\u001b[1;33m.\u001b[0m\u001b[0mresponse\u001b[0m\u001b[1;33m)\u001b[0m\u001b[1;33m\u001b[0m\u001b[1;33m\u001b[0m\u001b[0m\n\u001b[0m",
      "\u001b[1;31mHTTPError\u001b[0m: 400 Client Error: Bad Request for url: https://na1.api.riotgames.com/lol/match/v5/matches/by-puuid/J36NZv7yGxvgroxY1jCEeHePAO51VBIQhd27PkmnPzzdCg/ids"
     ]
    }
   ],
   "source": [
    "# Access Match Data\n",
    "my_matches = watcher.match_v5.matchlist_by_puuid(my_region, info['accountId'])\n",
    "\n",
    "# fetch last match detail\n",
    "last_match = my_matches['matches'][0]\n",
    "match_detail = watcher.match.by_id(my_region, last_match['gameId'])\n",
    "\n",
    "participants = []\n",
    "\n",
    "for row in match_detail['participants']:\n",
    "    participants_row = {}\n",
    "    participants_row['champion'] = row['championId']\n",
    "    participants_row['spell1'] = row['spell1Id']\n",
    "    participants_row['spell2'] = row['spell2Id']\n",
    "    participants_row['win'] = row['stats']['win']\n",
    "    participants_row['kills'] = row['stats']['kills']\n",
    "    participants_row['deaths'] = row['stats']['deaths']\n",
    "    participants_row['assists'] = row['stats']['assists']\n",
    "    participants_row['totalDamageDealt'] = row['stats']['totalDamageDealt']\n",
    "    participants_row['goldEarned'] = row['stats']['goldEarned']\n",
    "    participants_row['champLevel'] = row['stats']['champLevel']\n",
    "    participants_row['totalMinionsKilled'] = row['stats']['totalMinionsKilled']\n",
    "    participants_row['item0'] = row['stats']['item0']\n",
    "    participants_row['item1'] = row['stats']['item1']\n",
    "    participants.append(participants_row)\n",
    "df = pd.DataFrame(participants)\n",
    "df"
   ]
  },
  {
   "cell_type": "code",
   "execution_count": 9,
   "id": "automatic-monthly",
   "metadata": {},
   "outputs": [
    {
     "data": {
      "text/plain": [
       "{'266': 'Aatrox',\n",
       " '103': 'Ahri',\n",
       " '84': 'Akali',\n",
       " '166': 'Akshan',\n",
       " '12': 'Alistar',\n",
       " '32': 'Amumu',\n",
       " '34': 'Anivia',\n",
       " '1': 'Annie',\n",
       " '523': 'Aphelios',\n",
       " '22': 'Ashe',\n",
       " '136': 'AurelionSol',\n",
       " '268': 'Azir',\n",
       " '432': 'Bard',\n",
       " '53': 'Blitzcrank',\n",
       " '63': 'Brand',\n",
       " '201': 'Braum',\n",
       " '51': 'Caitlyn',\n",
       " '164': 'Camille',\n",
       " '69': 'Cassiopeia',\n",
       " '31': 'Chogath',\n",
       " '42': 'Corki',\n",
       " '122': 'Darius',\n",
       " '131': 'Diana',\n",
       " '119': 'Draven',\n",
       " '36': 'DrMundo',\n",
       " '245': 'Ekko',\n",
       " '60': 'Elise',\n",
       " '28': 'Evelynn',\n",
       " '81': 'Ezreal',\n",
       " '9': 'Fiddlesticks',\n",
       " '114': 'Fiora',\n",
       " '105': 'Fizz',\n",
       " '3': 'Galio',\n",
       " '41': 'Gangplank',\n",
       " '86': 'Garen',\n",
       " '150': 'Gnar',\n",
       " '79': 'Gragas',\n",
       " '104': 'Graves',\n",
       " '887': 'Gwen',\n",
       " '120': 'Hecarim',\n",
       " '74': 'Heimerdinger',\n",
       " '420': 'Illaoi',\n",
       " '39': 'Irelia',\n",
       " '427': 'Ivern',\n",
       " '40': 'Janna',\n",
       " '59': 'JarvanIV',\n",
       " '24': 'Jax',\n",
       " '126': 'Jayce',\n",
       " '202': 'Jhin',\n",
       " '222': 'Jinx',\n",
       " '145': 'Kaisa',\n",
       " '429': 'Kalista',\n",
       " '43': 'Karma',\n",
       " '30': 'Karthus',\n",
       " '38': 'Kassadin',\n",
       " '55': 'Katarina',\n",
       " '10': 'Kayle',\n",
       " '141': 'Kayn',\n",
       " '85': 'Kennen',\n",
       " '121': 'Khazix',\n",
       " '203': 'Kindred',\n",
       " '240': 'Kled',\n",
       " '96': 'KogMaw',\n",
       " '7': 'Leblanc',\n",
       " '64': 'LeeSin',\n",
       " '89': 'Leona',\n",
       " '876': 'Lillia',\n",
       " '127': 'Lissandra',\n",
       " '236': 'Lucian',\n",
       " '117': 'Lulu',\n",
       " '99': 'Lux',\n",
       " '54': 'Malphite',\n",
       " '90': 'Malzahar',\n",
       " '57': 'Maokai',\n",
       " '11': 'MasterYi',\n",
       " '21': 'MissFortune',\n",
       " '62': 'MonkeyKing',\n",
       " '82': 'Mordekaiser',\n",
       " '25': 'Morgana',\n",
       " '267': 'Nami',\n",
       " '75': 'Nasus',\n",
       " '111': 'Nautilus',\n",
       " '518': 'Neeko',\n",
       " '76': 'Nidalee',\n",
       " '56': 'Nocturne',\n",
       " '20': 'Nunu',\n",
       " '2': 'Olaf',\n",
       " '61': 'Orianna',\n",
       " '516': 'Ornn',\n",
       " '80': 'Pantheon',\n",
       " '78': 'Poppy',\n",
       " '555': 'Pyke',\n",
       " '246': 'Qiyana',\n",
       " '133': 'Quinn',\n",
       " '497': 'Rakan',\n",
       " '33': 'Rammus',\n",
       " '421': 'RekSai',\n",
       " '526': 'Rell',\n",
       " '58': 'Renekton',\n",
       " '107': 'Rengar',\n",
       " '92': 'Riven',\n",
       " '68': 'Rumble',\n",
       " '13': 'Ryze',\n",
       " '360': 'Samira',\n",
       " '113': 'Sejuani',\n",
       " '235': 'Senna',\n",
       " '147': 'Seraphine',\n",
       " '875': 'Sett',\n",
       " '35': 'Shaco',\n",
       " '98': 'Shen',\n",
       " '102': 'Shyvana',\n",
       " '27': 'Singed',\n",
       " '14': 'Sion',\n",
       " '15': 'Sivir',\n",
       " '72': 'Skarner',\n",
       " '37': 'Sona',\n",
       " '16': 'Soraka',\n",
       " '50': 'Swain',\n",
       " '517': 'Sylas',\n",
       " '134': 'Syndra',\n",
       " '223': 'TahmKench',\n",
       " '163': 'Taliyah',\n",
       " '91': 'Talon',\n",
       " '44': 'Taric',\n",
       " '17': 'Teemo',\n",
       " '412': 'Thresh',\n",
       " '18': 'Tristana',\n",
       " '48': 'Trundle',\n",
       " '23': 'Tryndamere',\n",
       " '4': 'TwistedFate',\n",
       " '29': 'Twitch',\n",
       " '77': 'Udyr',\n",
       " '6': 'Urgot',\n",
       " '110': 'Varus',\n",
       " '67': 'Vayne',\n",
       " '45': 'Veigar',\n",
       " '161': 'Velkoz',\n",
       " '711': 'Vex',\n",
       " '254': 'Vi',\n",
       " '234': 'Viego',\n",
       " '112': 'Viktor',\n",
       " '8': 'Vladimir',\n",
       " '106': 'Volibear',\n",
       " '19': 'Warwick',\n",
       " '498': 'Xayah',\n",
       " '101': 'Xerath',\n",
       " '5': 'XinZhao',\n",
       " '157': 'Yasuo',\n",
       " '777': 'Yone',\n",
       " '83': 'Yorick',\n",
       " '350': 'Yuumi',\n",
       " '154': 'Zac',\n",
       " '238': 'Zed',\n",
       " '115': 'Ziggs',\n",
       " '26': 'Zilean',\n",
       " '142': 'Zoe',\n",
       " '143': 'Zyra'}"
      ]
     },
     "execution_count": 9,
     "metadata": {},
     "output_type": "execute_result"
    }
   ],
   "source": [
    "# Access Data Dragon\n",
    "latest = watcher.data_dragon.versions_for_region(my_region)['n'][\"champion\"]\n",
    "\n",
    "static_champ_list = watcher.data_dragon.champions(latest, False, 'en_US')\n",
    "\n",
    "champ_dict = {}\n",
    "for key in static_champ_list['data']:\n",
    "    row = static_champ_list['data'][key]\n",
    "    champ_dict[row['key']] = row['id']\n",
    "\n",
    "champ_dict"
   ]
  },
  {
   "cell_type": "code",
   "execution_count": null,
   "id": "norman-premium",
   "metadata": {},
   "outputs": [],
   "source": []
  }
 ],
 "metadata": {
  "kernelspec": {
   "display_name": "Python 3",
   "language": "python",
   "name": "python3"
  },
  "language_info": {
   "codemirror_mode": {
    "name": "ipython",
    "version": 3
   },
   "file_extension": ".py",
   "mimetype": "text/x-python",
   "name": "python",
   "nbconvert_exporter": "python",
   "pygments_lexer": "ipython3",
   "version": "3.9.2"
  }
 },
 "nbformat": 4,
 "nbformat_minor": 5
}
