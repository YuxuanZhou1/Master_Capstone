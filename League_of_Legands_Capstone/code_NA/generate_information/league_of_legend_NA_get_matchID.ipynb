{
 "cells": [
  {
   "cell_type": "code",
   "execution_count": 2,
   "id": "opposed-culture",
   "metadata": {},
   "outputs": [],
   "source": [
    "from riotwatcher import LolWatcher, ApiError\n",
    "import pandas as pd\n",
    "import csv"
   ]
  },
  {
   "cell_type": "code",
   "execution_count": 3,
   "id": "superior-poland",
   "metadata": {},
   "outputs": [],
   "source": [
    "# global variables\n",
    "api_key = \"RGAPI-c81814d2-e8e3-4f32-aa08-1edec0828f8d\"\n",
    "watcher = LolWatcher(api_key, default_match_v5=True)\n",
    "my_region = 'na1'"
   ]
  },
  {
   "cell_type": "code",
   "execution_count": null,
   "id": "advance-intervention",
   "metadata": {},
   "outputs": [],
   "source": [
    "# get puuid from csv\n",
    "data = pd.read_csv (\"puuid.csv\")\n",
    "new_list = data['playerName'].tolist()"
   ]
  },
  {
   "cell_type": "code",
   "execution_count": null,
   "id": "accompanied-watts",
   "metadata": {},
   "outputs": [],
   "source": [
    "my_matches = watcher.match_v5.matchlist_by_puuid(my_region,"
   ]
  }
 ],
 "metadata": {
  "kernelspec": {
   "display_name": "Python 3",
   "language": "python",
   "name": "python3"
  },
  "language_info": {
   "codemirror_mode": {
    "name": "ipython",
    "version": 3
   },
   "file_extension": ".py",
   "mimetype": "text/x-python",
   "name": "python",
   "nbconvert_exporter": "python",
   "pygments_lexer": "ipython3",
   "version": "3.9.2"
  }
 },
 "nbformat": 4,
 "nbformat_minor": 5
}
